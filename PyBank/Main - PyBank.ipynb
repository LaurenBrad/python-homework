{
 "cells": [
  {
   "cell_type": "code",
   "execution_count": 34,
   "id": "8dbe1935-1354-4c9f-8de6-3ed4792096a1",
   "metadata": {},
   "outputs": [],
   "source": [
    "import pandas as pd\n",
    "from pathlib import Path\n",
    "import csv"
   ]
  },
  {
   "cell_type": "code",
   "execution_count": 35,
   "id": "d2280b35-7afb-4e49-b954-ea4738222e99",
   "metadata": {},
   "outputs": [
    {
     "data": {
      "text/html": [
       "<div>\n",
       "<style scoped>\n",
       "    .dataframe tbody tr th:only-of-type {\n",
       "        vertical-align: middle;\n",
       "    }\n",
       "\n",
       "    .dataframe tbody tr th {\n",
       "        vertical-align: top;\n",
       "    }\n",
       "\n",
       "    .dataframe thead th {\n",
       "        text-align: right;\n",
       "    }\n",
       "</style>\n",
       "<table border=\"1\" class=\"dataframe\">\n",
       "  <thead>\n",
       "    <tr style=\"text-align: right;\">\n",
       "      <th></th>\n",
       "      <th>Date</th>\n",
       "      <th>Profit/Losses</th>\n",
       "    </tr>\n",
       "  </thead>\n",
       "  <tbody>\n",
       "    <tr>\n",
       "      <th>0</th>\n",
       "      <td>Jan-2010</td>\n",
       "      <td>867884</td>\n",
       "    </tr>\n",
       "    <tr>\n",
       "      <th>1</th>\n",
       "      <td>Feb-2010</td>\n",
       "      <td>984655</td>\n",
       "    </tr>\n",
       "    <tr>\n",
       "      <th>2</th>\n",
       "      <td>Mar-2010</td>\n",
       "      <td>322013</td>\n",
       "    </tr>\n",
       "    <tr>\n",
       "      <th>3</th>\n",
       "      <td>Apr-2010</td>\n",
       "      <td>-69417</td>\n",
       "    </tr>\n",
       "    <tr>\n",
       "      <th>4</th>\n",
       "      <td>May-2010</td>\n",
       "      <td>310503</td>\n",
       "    </tr>\n",
       "  </tbody>\n",
       "</table>\n",
       "</div>"
      ],
      "text/plain": [
       "       Date  Profit/Losses\n",
       "0  Jan-2010         867884\n",
       "1  Feb-2010         984655\n",
       "2  Mar-2010         322013\n",
       "3  Apr-2010         -69417\n",
       "4  May-2010         310503"
      ]
     },
     "execution_count": 35,
     "metadata": {},
     "output_type": "execute_result"
    }
   ],
   "source": [
    "csv_path = Path(\"D:/python-homework/PyBank/budget_data.csv\")\n",
    "csv_data = pd.read_csv(csv_path)\n",
    "csv_data.head()"
   ]
  },
  {
   "cell_type": "code",
   "execution_count": 36,
   "id": "cdc0e386-a1ea-4cc2-9ab8-8f0d7575309a",
   "metadata": {},
   "outputs": [
    {
     "name": "stdout",
     "output_type": "stream",
     "text": [
      "['Date', 'Profit/Losses']\n"
     ]
    }
   ],
   "source": [
    "with open(csv_path,'r') as csvfile:\n",
    "    csvreader = csv.reader(csvfile,delimiter=',')\n",
    "    csv_header = next(csvreader)\n",
    "    print(csv_header)"
   ]
  },
  {
   "cell_type": "code",
   "execution_count": 37,
   "id": "88b9d318-0c42-4d72-a92d-38a73eabe194",
   "metadata": {},
   "outputs": [],
   "source": [
    "#amount diff calculation\n",
    "AmtChange = csv_data[\"Profit/Losses\"].diff()\n",
    "csv_data[\"Amount Changed\"] = AmtChange"
   ]
  },
  {
   "cell_type": "code",
   "execution_count": 38,
   "id": "8f44b578-2014-4405-8dfb-09b776e03a0b",
   "metadata": {},
   "outputs": [],
   "source": [
    "#calculate increase\n",
    "greatestincrease = '${:.0f}'.format(csv_data[\"Amount Changed\"].max())\n",
    "increase_date = csv_data[\"Date\"] == greatestincrease"
   ]
  },
  {
   "cell_type": "code",
   "execution_count": 39,
   "id": "3bf10f76-aa6c-477b-9d77-715509a53704",
   "metadata": {},
   "outputs": [],
   "source": [
    "#calculate decrease\n",
    "greatestdecrease =  '${:.0f}'.format(csv_data[\"Amount Changed\"].min())\n",
    "decrease_date = csv_data[\"Date\"] == greatestdecrease"
   ]
  },
  {
   "cell_type": "code",
   "execution_count": 40,
   "id": "8daddfed-a7a9-4764-b848-5e72d102c0bc",
   "metadata": {},
   "outputs": [
    {
     "name": "stdout",
     "output_type": "stream",
     "text": [
      "Total Months: 86\n",
      "Total: 38382578\n",
      "Average PnL: -2315.1176470588234\n",
      "Greatest Increase in Profits $1926159\n",
      "Greatest Decrease in Profits: $-2196167\n"
     ]
    }
   ],
   "source": [
    "print(f\"Total Months:\" , csv_data[\"Date\"].count())\n",
    "print(f\"Total:\" , csv_data[\"Profit/Losses\"].sum())\n",
    "print(f\"Average PnL:\" , csv_data[\"Amount Changed\"].mean())\n",
    "print(f\"Greatest Increase in Profits\" , greatestincrease)\n",
    "print(f\"Greatest Decrease in Profits:\" , greatestdecrease)"
   ]
  },
  {
   "cell_type": "code",
   "execution_count": 41,
   "id": "369bac1b-0020-4e4c-98d2-e48cb08938b7",
   "metadata": {},
   "outputs": [],
   "source": [
    "date = csv_data[\"Date\"].count()\n",
    "total = csv_data[\"Profit/Losses\"].sum()\n",
    "average = csv_data[\"Amount Changed\"].mean()\n",
    "increase = (greatestincrease)\n",
    "decrease = (greatestdecrease)"
   ]
  },
  {
   "cell_type": "code",
   "execution_count": 53,
   "id": "57e6065a-7b19-4c8e-8d0b-c4774d877bc6",
   "metadata": {},
   "outputs": [],
   "source": [
    "output_path = 'Pybank.txt'\n",
    "\n",
    "# Open the output path as a file object\n",
    "with open(output_path, 'w') as file:\n",
    "    file.write(f\"Total Months: {date}\") \n",
    "    file.write(f\"Total: {total}\") \n",
    "    file.write(f\"Average PnL: {average}\")\n",
    "    file.write(f\"Greatest Increase in Profits: {increase}\")\n",
    "    file.write(f\"Greatest Decrease in Profits: {decrease}\" )"
   ]
  },
  {
   "cell_type": "code",
   "execution_count": null,
   "id": "8281e481-36bf-4f69-9c17-23341e728720",
   "metadata": {},
   "outputs": [],
   "source": []
  }
 ],
 "metadata": {
  "kernelspec": {
   "display_name": "Python 3",
   "language": "python",
   "name": "python3"
  },
  "language_info": {
   "codemirror_mode": {
    "name": "ipython",
    "version": 3
   },
   "file_extension": ".py",
   "mimetype": "text/x-python",
   "name": "python",
   "nbconvert_exporter": "python",
   "pygments_lexer": "ipython3",
   "version": "3.8.8"
  }
 },
 "nbformat": 4,
 "nbformat_minor": 5
}

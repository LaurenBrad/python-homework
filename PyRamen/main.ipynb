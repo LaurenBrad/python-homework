{
 "cells": [
  {
   "cell_type": "code",
   "execution_count": 23,
   "id": "0c676053-413b-429a-8727-717395db009f",
   "metadata": {},
   "outputs": [],
   "source": [
    "import csv\n",
    "from pathlib import Path\n",
    "\n",
    "# @TODO: Set file paths for menu_data.csv and sales_data.csv\n",
    "menu_filepath = Path('D:/RUT-VIRT-FIN-PT-05-2021-U-LOL/02-Homework/02-Python/PyRamen/Resources/menu_data.csv')\n",
    "sales_filepath = Path('D:/RUT-VIRT-FIN-PT-05-2021-U-LOL/02-Homework/02-Python/PyRamen/Resources/sales_data.csv')\n",
    "\n",
    "# @TODO: Initialize list objects to hold our menu and sales data\n",
    "menu = []\n",
    "sales = []"
   ]
  },
  {
   "cell_type": "code",
   "execution_count": 27,
   "id": "10f2e8e5-44a6-468e-aeec-9becee4a3e78",
   "metadata": {},
   "outputs": [
    {
     "name": "stdout",
     "output_type": "stream",
     "text": [
      "['item', 'category', 'description', 'price', 'cost']\n"
     ]
    }
   ],
   "source": [
    "with open(menu_filepath,'r') as csvfile:\n",
    "    csvreader = csv.reader(csvfile,delimiter=',')\n",
    "    header = next(csvreader)\n",
    "    print(header)\n",
    "    for row in csvreader:\n",
    "        menu.append(row)"
   ]
  },
  {
   "cell_type": "code",
   "execution_count": 74,
   "id": "b644f017-1290-4e4d-8993-c82f4e00737b",
   "metadata": {},
   "outputs": [
    {
     "name": "stdout",
     "output_type": "stream",
     "text": [
      "['Line_Item_ID', 'Date', 'Credit_Card_Number', 'Quantity', 'Menu_Item']\n"
     ]
    }
   ],
   "source": [
    "with open(sales_filepath,'r') as csvfile:\n",
    "    csvreader = csv.reader(csvfile,delimiter=',')\n",
    "    csv_header = next(csvreader)\n",
    "    sales.append(row)\n",
    "    print(csv_header)"
   ]
  },
  {
   "cell_type": "code",
   "execution_count": 93,
   "id": "b7b6d4e8-0eaf-4531-9961-ad7d84d3c2ef",
   "metadata": {},
   "outputs": [],
   "source": [
    "report = {}\n",
    "sales_row = 0\n",
    "menu_row = 0\n",
    "# @TODO: Loop over every row in the sales list object\n",
    "for sales_row in sales:\n",
    "    food = sales_row[4]\n",
    "    quantitiy = sales_row[3]\n",
    "    report[food] = {\"01-count\": 0, \"02-revenue\": 0, \"03-cogs\": 0, \"04-profit\": 0}\n",
    "        "
   ]
  },
  {
   "cell_type": "code",
   "execution_count": 97,
   "id": "c532e182-5509-4968-a912-087c0c0063be",
   "metadata": {},
   "outputs": [
    {
     "name": "stdout",
     "output_type": "stream",
     "text": [
      " 3 does not equal edamame! NO MATCH!.\n",
      " 3 does not equal house salad! NO MATCH!.\n",
      " 3 does not equal cucumber sunomono salad! NO MATCH!.\n",
      " 3 does not equal hiyashi wakame seaweed salad! NO MATCH!.\n",
      " 3 does not equal agedashi tofu! NO MATCH!.\n",
      " 3 does not equal hiyayakko tofu! NO MATCH!.\n",
      " 3 does not equal pork floss bao! NO MATCH!.\n",
      " 3 does not equal kakuni bao! NO MATCH!.\n",
      " 3 does not equal edamame fried gyoza (vegan)! NO MATCH!.\n",
      " 3 does not equal fried gyoza! NO MATCH!.\n",
      " 3 does not equal takoyaki! NO MATCH!.\n",
      " 3 does not equal rock shrimp tempura! NO MATCH!.\n",
      " 3 does not equal soft-shell crab tempura! NO MATCH!.\n",
      " 3 does not equal ebi katsu shrimp bao! NO MATCH!.\n",
      " 3 does not equal nagomi shoyu! NO MATCH!.\n",
      " 3 does not equal shio ramen! NO MATCH!.\n",
      " 3 does not equal spicy miso ramen! NO MATCH!.\n",
      " 3 does not equal vegetarian spicy miso! NO MATCH!.\n",
      " 3 does not equal miso crab ramen! NO MATCH!.\n",
      " 3 does not equal soft-shell miso crab ramen! NO MATCH!.\n",
      " 3 does not equal tori paitan ramen! NO MATCH!.\n",
      " 3 does not equal tonkotsu ramen! NO MATCH!.\n",
      " 3 does not equal burnt garlic tonkotsu ramen! NO MATCH!.\n",
      " 3 does not equal vegetarian curry + king trumpet mushroom ramen! NO MATCH!.\n",
      " 3 does not equal truffle butter ramen! NO MATCH!.\n",
      " 3 does not equal green tea! NO MATCH!.\n",
      " 3 does not equal coke! NO MATCH!.\n",
      " 3 does not equal black sesame ice cream! NO MATCH!.\n",
      " 3 does not equal matcha ice cream! NO MATCH!.\n",
      " 3 does not equal mango mochi ice cream! NO MATCH!.\n",
      " 3 does not equal strawberry mochi ice cream! NO MATCH!.\n",
      " 3 does not equal black sesame creme brulee! NO MATCH!.\n"
     ]
    }
   ],
   "source": [
    "for sales_row in sales:\n",
    "    food = sales_row[4]\n",
    "    quantity = sales_row[3]\n",
    "    \n",
    "for menu_row in menu:\n",
    "    item = menu_row[0]\n",
    "    price = menu_row[3]\n",
    "    cost = menu_row[4]\n",
    "        \n",
    "    if food == item:\n",
    "        report[food][\"01-count\"] += int(quantity)\n",
    "        report[food][\"02-revenue\"] += int(price) * int(quantity)\n",
    "        report[food][\"03-cogs\"] += int(cost) * int(quantity)\n",
    "        report[food][\"04-profit\"] += int(profit) * int(quantity)\n",
    "    else:\n",
    "        print(f\" {food} does not equal {item}! NO MATCH!.\")"
   ]
  },
  {
   "cell_type": "code",
   "execution_count": 101,
   "id": "04c92994-d894-4835-9198-96fc190f00b5",
   "metadata": {},
   "outputs": [
    {
     "ename": "KeyError",
     "evalue": "'black sesame creme brulee'",
     "output_type": "error",
     "traceback": [
      "\u001b[1;31m---------------------------------------------------------------------------\u001b[0m",
      "\u001b[1;31mKeyError\u001b[0m                                  Traceback (most recent call last)",
      "\u001b[1;32m<ipython-input-101-af49494f619a>\u001b[0m in \u001b[0;36m<module>\u001b[1;34m\u001b[0m\n\u001b[0;32m      7\u001b[0m     \u001b[0mfile\u001b[0m\u001b[1;33m.\u001b[0m\u001b[0mwrite\u001b[0m\u001b[1;33m(\u001b[0m\u001b[1;34m\"\\n\"\u001b[0m\u001b[1;33m)\u001b[0m\u001b[1;33m\u001b[0m\u001b[1;33m\u001b[0m\u001b[0m\n\u001b[0;32m      8\u001b[0m     \u001b[1;32mfor\u001b[0m \u001b[0mkey\u001b[0m \u001b[1;32min\u001b[0m \u001b[0mreport\u001b[0m\u001b[1;33m:\u001b[0m\u001b[1;33m\u001b[0m\u001b[1;33m\u001b[0m\u001b[0m\n\u001b[1;32m----> 9\u001b[1;33m         \u001b[0mfile\u001b[0m\u001b[1;33m.\u001b[0m\u001b[0mwrite\u001b[0m\u001b[1;33m(\u001b[0m\u001b[1;34mf\"{food} {report[item]}\"\u001b[0m\u001b[1;33m)\u001b[0m\u001b[1;33m\u001b[0m\u001b[1;33m\u001b[0m\u001b[0m\n\u001b[0m",
      "\u001b[1;31mKeyError\u001b[0m: 'black sesame creme brulee'"
     ]
    }
   ],
   "source": [
    "# @TODO: Write out report to a text file (won't appear on the command line output)\n",
    "\n",
    "output_path = 'PyRamen.txt'\n",
    "\n",
    "with open(output_path, 'w') as file:\n",
    "    file.write(\"final financial report for PyRamen\")\n",
    "    file.write(\"\\n\")\n",
    "    for key in report:\n",
    "        file.write(f\"{food} {report[item]}\")"
   ]
  },
  {
   "cell_type": "code",
   "execution_count": null,
   "id": "c9f000c7-8777-4c47-99ab-1fdb0b5c57f6",
   "metadata": {},
   "outputs": [],
   "source": []
  },
  {
   "cell_type": "code",
   "execution_count": null,
   "id": "53aed1bb-08ef-4d84-9c5b-d5ae071bb3cd",
   "metadata": {},
   "outputs": [],
   "source": []
  },
  {
   "cell_type": "code",
   "execution_count": null,
   "id": "94376905-d608-4f52-90d9-2ae27a3553bc",
   "metadata": {},
   "outputs": [],
   "source": []
  },
  {
   "cell_type": "code",
   "execution_count": null,
   "id": "7e7efa53-9ecf-49a0-a914-5859c89ea78b",
   "metadata": {},
   "outputs": [],
   "source": []
  }
 ],
 "metadata": {
  "kernelspec": {
   "display_name": "Python 3",
   "language": "python",
   "name": "python3"
  },
  "language_info": {
   "codemirror_mode": {
    "name": "ipython",
    "version": 3
   },
   "file_extension": ".py",
   "mimetype": "text/x-python",
   "name": "python",
   "nbconvert_exporter": "python",
   "pygments_lexer": "ipython3",
   "version": "3.8.8"
  }
 },
 "nbformat": 4,
 "nbformat_minor": 5
}
